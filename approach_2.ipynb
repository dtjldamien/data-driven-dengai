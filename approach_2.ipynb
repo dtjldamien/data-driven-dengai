{
 "cells": [
  {
   "cell_type": "markdown",
   "id": "5bc30b8b",
   "metadata": {},
   "source": [
    "# Challenge Summary\n",
    "\n",
    "Can you predict local epidemics of dengue fever?\n",
    "\n",
    "Dengue fever is a mosquito-borne disease that occurs in tropical and sub-tropical parts of the world. In mild cases, symptoms are similar to the flu: fever, rash, and muscle and joint pain. In severe cases, dengue fever can cause severe bleeding, low blood pressure, and even death.\n",
    "\n",
    "Because it is carried by mosquitoes, the transmission dynamics of dengue are related to climate variables such as temperature and precipitation. Although the relationship to climate is complex, a growing number of scientists argue that climate change is likely to produce distributional shifts that will have significant public health implications worldwide.\n",
    "\n",
    "In recent years dengue fever has been spreading. Historically, the disease has been most prevalent in Southeast Asia and the Pacific islands. These days many of the nearly half billion cases per year are occurring in Latin America:\n",
    "\n",
    "Using environmental data collected by various U.S. Federal Government agencies—from the Centers for Disease Control and Prevention to the National Oceanic and Atmospheric Administration in the U.S. Department of Commerce—can you predict the number of dengue fever cases reported each week in San Juan, Puerto Rico and Iquitos, Peru?\n"
   ]
  },
  {
   "cell_type": "markdown",
   "id": "282f53a2",
   "metadata": {},
   "source": [
    "# Team Information\n",
    "\n",
    "Name: Team Fondue\n",
    "Members:\n",
    "\n",
    "- Anthony Xavier Poh Tianci (E0406854)\n",
    "- Tan Jia Le Damien (E0310355)\n"
   ]
  },
  {
   "cell_type": "markdown",
   "id": "8c341d91",
   "metadata": {},
   "source": [
    "# Imports\n"
   ]
  },
  {
   "cell_type": "code",
   "execution_count": 37,
   "id": "feb7e714",
   "metadata": {},
   "outputs": [],
   "source": [
    "import warnings\n",
    "from sklearn.preprocessing import MinMaxScaler\n",
    "import numpy as np\n",
    "import pandas as pd\n",
    "\n",
    "import torch\n",
    "import torch.nn as nn\n",
    "\n",
    "import statsmodels.api as sm\n",
    "import statsmodels.formula.api as smf\n",
    "\n",
    "from matplotlib import pyplot as plt\n",
    "import seaborn as sns\n",
    "%matplotlib inline\n",
    "plt.style.use('seaborn-white')\n",
    "\n",
    "\n",
    "warnings.filterwarnings(\"ignore\")\n",
    "\n",
    "rng = 0\n"
   ]
  },
  {
   "cell_type": "markdown",
   "id": "2e9f2c3b",
   "metadata": {},
   "source": [
    "# Data Exploration\n"
   ]
  },
  {
   "cell_type": "code",
   "execution_count": 38,
   "id": "937f6949",
   "metadata": {},
   "outputs": [],
   "source": [
    "# Loading of dataset\n",
    "\n",
    "train_features = pd.read_csv('./dengue_features_train.csv')\n",
    "train_labels = pd.read_csv('./dengue_labels_train.csv')\n",
    "test_features = pd.read_csv('./dengue_features_test.csv')\n"
   ]
  },
  {
   "cell_type": "code",
   "execution_count": 39,
   "id": "67d9ecfc",
   "metadata": {},
   "outputs": [],
   "source": [
    "# fillna\n",
    "\n",
    "train_features.fillna(method='ffill', inplace=True)\n",
    "test_features.fillna(method='ffill', inplace=True)\n"
   ]
  },
  {
   "cell_type": "code",
   "execution_count": 40,
   "id": "99cd04b4",
   "metadata": {},
   "outputs": [],
   "source": [
    "# convert week_start_date column to datetime\n",
    "\n",
    "train_features['week_start_date'] = pd.to_datetime(\n",
    "    train_features['week_start_date'])\n",
    "test_features['week_start_date'] = pd.to_datetime(\n",
    "    test_features['week_start_date'])\n"
   ]
  },
  {
   "cell_type": "code",
   "execution_count": 41,
   "id": "eb07ca77",
   "metadata": {},
   "outputs": [],
   "source": [
    "# extracting month to a new column\n",
    "\n",
    "train_features['month'] = train_features.week_start_date.dt.month\n",
    "test_features['month'] = test_features.week_start_date.dt.month\n"
   ]
  },
  {
   "cell_type": "code",
   "execution_count": 42,
   "id": "9f3de27a",
   "metadata": {},
   "outputs": [],
   "source": [
    "# merging features and labels\n",
    "\n",
    "train_features = pd.merge(train_features, train_labels, on=[\n",
    "                          'city', 'year', 'weekofyear'])\n"
   ]
  },
  {
   "cell_type": "code",
   "execution_count": 43,
   "id": "a2f70746",
   "metadata": {},
   "outputs": [],
   "source": [
    "# getting the average of total_cases for each week over the years\n",
    "train_features = train_features.join(train_features.groupby(['city', 'weekofyear'])[\n",
    "                                     'total_cases'].mean(), on=['city', 'weekofyear'], rsuffix='_avg')\n",
    "test_features = test_features.join(test_features.groupby(\n",
    "    ['city', 'weekofyear']).mean(), on=['city', 'weekofyear'], rsuffix='_avg')\n"
   ]
  },
  {
   "cell_type": "code",
   "execution_count": 44,
   "id": "4ae539f1",
   "metadata": {},
   "outputs": [],
   "source": [
    "# we do rolling sum for precipitation values because precipitation builds up over time\n",
    "\n",
    "rolling_cols_sum = [\n",
    "    'precipitation_amt_mm',\n",
    "    'reanalysis_sat_precip_amt_mm',\n",
    "    'station_precip_mm'\n",
    "]\n",
    "\n",
    "# for the following columns, we take the average over a given duration\n",
    "rolling_cols_avg = [\n",
    "    'ndvi_ne',\n",
    "    'ndvi_nw',\n",
    "    'ndvi_se',\n",
    "    'ndvi_sw',\n",
    "    'reanalysis_air_temp_k',\n",
    "    'reanalysis_avg_temp_k',\n",
    "    'reanalysis_dew_point_temp_k',\n",
    "    'reanalysis_max_air_temp_k',\n",
    "    'reanalysis_min_air_temp_k',\n",
    "    'reanalysis_precip_amt_kg_per_m2',\n",
    "    'reanalysis_relative_humidity_percent',\n",
    "    'reanalysis_specific_humidity_g_per_kg',\n",
    "    'reanalysis_tdtr_k',\n",
    "    'station_avg_temp_c',\n",
    "    'station_diur_temp_rng_c',\n",
    "    'station_max_temp_c',\n",
    "    'station_min_temp_c'\n",
    "]\n"
   ]
  },
  {
   "cell_type": "code",
   "execution_count": 45,
   "id": "8e2db4c4",
   "metadata": {},
   "outputs": [],
   "source": [
    "# for loop to create new rolling sum columns, sum over 3 weeks\n",
    "for col in rolling_cols_sum:\n",
    "    train_features['rolling_sum_' + col] = train_features[col].rolling(3).sum()\n",
    "    test_features['rolling_sum_' + col] = test_features[col].rolling(3).sum()\n",
    "\n",
    "# for loop to create new rolling average columns, mean over 3 weeks\n",
    "for col in rolling_cols_avg:\n",
    "    train_features['rolling_avg_' + col] = train_features[col].rolling(3).mean()\n",
    "    test_features['rolling_avg_' + col] = test_features[col].rolling(3).mean()\n"
   ]
  },
  {
   "cell_type": "code",
   "execution_count": 46,
   "id": "5318cad9",
   "metadata": {},
   "outputs": [],
   "source": [
    "# dengue has about 4 to 10 days of incubation of dengue\n",
    "# and takes about 8 to 10 days from egg to adult, create lag of 2 weeks\n",
    "# create lag features for the following columns\n",
    "for col in rolling_cols_sum:\n",
    "    train_features['lag_1_' + col] = train_features[col].shift(1)\n",
    "    test_features['lag_1_' + col] = test_features[col].shift(1)\n",
    "    train_features['lag_2_' + col] = train_features[col].shift(2)\n",
    "    test_features['lag_2_' + col] = test_features[col].shift(2)\n",
    "\n",
    "# create lag features for the following columns\n",
    "for col in rolling_cols_avg:\n",
    "    train_features['lag_1_' + col] = train_features[col].shift(1)\n",
    "    test_features['lag_1_' + col] = test_features[col].shift(1)\n",
    "    train_features['lag_2_' + col] = train_features[col].shift(2)\n",
    "    test_features['lag_2_' + col] = test_features[col].shift(2)\n"
   ]
  },
  {
   "cell_type": "code",
   "execution_count": 47,
   "id": "94bcad2c",
   "metadata": {},
   "outputs": [],
   "source": [
    "# we use backward fill for missing values in the rolling sum and rolling average columns\n",
    "# reason for this is because our rolling sum and rolling averages take values from the previous weeks\n",
    "train_features.fillna(method='bfill', inplace=True)\n",
    "test_features.fillna(method='bfill', inplace=True)\n"
   ]
  },
  {
   "cell_type": "code",
   "execution_count": 48,
   "id": "99a6e6d9",
   "metadata": {},
   "outputs": [],
   "source": [
    "# standardize data using m,in/max scaler with minimum and maximum values of -1 and 1\n",
    "# scaler = MinMaxScaler(feature_range=(-1, 1))\n",
    "# train_features_scaled = scaler.fit_transform(train_features).reshape(-1, 1)\n",
    "# test_features_scaled = scaler.fit_transform(test_features).reshape(-1, 1)\n"
   ]
  },
  {
   "cell_type": "markdown",
   "id": "b46132ad",
   "metadata": {},
   "source": []
  },
  {
   "cell_type": "code",
   "execution_count": 49,
   "id": "550b79c1",
   "metadata": {},
   "outputs": [],
   "source": [
    "# save our train_features to a csv file for easier access in approach 3 and 4\n",
    "train_features.to_csv('train_features_modified.csv', mode='w', index=False)\n",
    "test_features.to_csv('test_features_modified.csv', mode='w', index=False)\n"
   ]
  },
  {
   "cell_type": "code",
   "execution_count": 50,
   "id": "ac48f874",
   "metadata": {},
   "outputs": [],
   "source": [
    "# slice train_features, test_features and train_labels by city\n",
    "# Seperate data for San Juan\n",
    "sj_train_features = train_features[train_features['city'] == 'sj']\n",
    "sj_train_labels = train_labels[train_labels['city'] == 'sj']\n",
    "sj_test_features = test_features[test_features['city'] == 'sj']\n",
    "\n",
    "# Separate data for Iquitos\n",
    "iq_train_features = train_features[train_features['city'] == 'iq']\n",
    "iq_train_labels = train_labels[train_labels['city'] == 'iq']\n",
    "iq_test_features = test_features[test_features['city'] == 'iq']\n",
    "\n",
    "# drop city column from train_features and test_features\n",
    "sj_train_features.drop(['city', 'week_start_date'], axis=1, inplace=True)\n",
    "sj_train_labels.drop(['city'], axis=1, inplace=True)\n",
    "sj_test_features.drop(['city', 'week_start_date'], axis=1, inplace=True)\n",
    "\n",
    "iq_train_features.drop(['city', 'week_start_date'], axis=1, inplace=True)\n",
    "iq_train_labels.drop(['city'], axis=1, inplace=True)\n",
    "iq_test_features.drop(['city', 'week_start_date'], axis=1, inplace=True)\n",
    "\n"
   ]
  },
  {
   "cell_type": "code",
   "execution_count": 51,
   "id": "5658a726",
   "metadata": {},
   "outputs": [],
   "source": [
    "# create LSTM model\n",
    "class LSTM(nn.Module):\n",
    "    def __init__(self, input_size=1, hidden_layer_size=100, output_size=1):\n",
    "        super().__init__()\n",
    "        self.hidden_layer_size = hidden_layer_size\n",
    "\n",
    "        self.lstm = nn.LSTM(input_size, hidden_layer_size)\n",
    "\n",
    "        self.linear = nn.Linear(hidden_layer_size, output_size)\n",
    "\n",
    "        self.hidden_cell = (torch.zeros(1,1,self.hidden_layer_size),\n",
    "                            torch.zeros(1,1,self.hidden_layer_size))\n",
    "\n",
    "\n",
    "    # forward pass method\n",
    "    def forward(self, input):\n",
    "        input = torch.from_numpy(input).float()\n",
    "        lstm_out, self.hidden_cell = self.lstm(input.view(len(input), 1, -1), self.hidden_cell)\n",
    "        output = self.linear(lstm_out[-1])\n",
    "        return output\n"
   ]
  },
  {
   "cell_type": "code",
   "execution_count": 52,
   "id": "e08a7c9f",
   "metadata": {},
   "outputs": [],
   "source": [
    "def train_model(features, labels):\n",
    "    model = LSTM()\n",
    "    loss_function = nn.MSELoss()\n",
    "    optimizer = torch.optim.Adam(model.parameters(), lr=0.001)\n",
    "\n",
    "    # train model for 10 epochs\n",
    "    epochs = 10\n",
    "\n",
    "    # train model\n",
    "    for epoch in range(epochs):\n",
    "        # reset hidden cell state\n",
    "        model.hidden_cell = (torch.zeros(1, 1, model.hidden_layer_size),\n",
    "                             torch.zeros(1, 1, model.hidden_layer_size))\n",
    "\n",
    "        # train model\n",
    "        for i in range(len(features)):\n",
    "            model.zero_grad()\n",
    "            model.hidden_cell = (torch.zeros(1, 1, model.hidden_layer_size),\n",
    "                                 torch.zeros(1, 1, model.hidden_layer_size))\n",
    "\n",
    "            # get input and output\n",
    "            inputs = features.iloc[i, :-1].values.reshape(-1, 1)\n",
    "            targets = labels.iloc[i, -1]\n",
    "\n",
    "            # forward pass\n",
    "            outputs = model.forward(inputs)\n",
    "\n",
    "            # calculate loss\n",
    "            loss = loss_function(outputs, torch.tensor(targets).float())\n",
    "\n",
    "            # backward pass\n",
    "            loss.backward()\n",
    "\n",
    "            # update weights\n",
    "            optimizer.step()\n",
    "\n",
    "        # print loss\n",
    "        print('Epoch: {}/{}, Loss: {}'.format(epoch+1, epochs, loss.item()))\n",
    "\n",
    "    return model\n"
   ]
  },
  {
   "cell_type": "code",
   "execution_count": 54,
   "id": "1f5a2c45",
   "metadata": {},
   "outputs": [],
   "source": [
    "# make predictions on sj_model with sj_test_features\n",
    "def predict(model, features):\n",
    "    predictions = []\n",
    "    for i in range(len(features)):\n",
    "        model.hidden_cell = (torch.zeros(1, 1, sj_model.hidden_layer_size),\n",
    "                                torch.zeros(1, 1, sj_model.hidden_layer_size))\n",
    "\n",
    "        # get input and output\n",
    "        inputs = features.iloc[i, :-1].values.reshape(-1, 1)\n",
    "        targets = features.iloc[i, -1]\n",
    "\n",
    "        # forward pass\n",
    "        outputs = model.forward(inputs)\n",
    "\n",
    "        # append prediction to list\n",
    "        predictions.append(outputs.item())\n",
    "\n",
    "    return predictions"
   ]
  },
  {
   "cell_type": "code",
   "execution_count": 61,
   "id": "27ede405",
   "metadata": {},
   "outputs": [
    {
     "name": "stdout",
     "output_type": "stream",
     "text": [
      "Epoch: 1/10, Loss: 277.34857177734375\n",
      "Epoch: 2/10, Loss: 546.3092041015625\n",
      "Epoch: 3/10, Loss: 178.85914611816406\n",
      "Epoch: 4/10, Loss: 516.2036743164062\n",
      "Epoch: 5/10, Loss: 622.7530517578125\n",
      "Epoch: 6/10, Loss: 660.577880859375\n",
      "Epoch: 7/10, Loss: 673.8094482421875\n",
      "Epoch: 8/10, Loss: 677.8114013671875\n",
      "Epoch: 9/10, Loss: 683.5737915039062\n",
      "Epoch: 10/10, Loss: 683.2100219726562\n"
     ]
    },
    {
     "ename": "AttributeError",
     "evalue": "'list' object has no attribute 'astype'",
     "output_type": "error",
     "traceback": [
      "\u001b[0;31m---------------------------------------------------------------------------\u001b[0m",
      "\u001b[0;31mAttributeError\u001b[0m                            Traceback (most recent call last)",
      "\u001b[0;32m/var/folders/w_/6rqkxbzd5cz6g49k5109y1kh0000gn/T/ipykernel_72495/1748541214.py\u001b[0m in \u001b[0;36m<module>\u001b[0;34m\u001b[0m\n\u001b[1;32m      1\u001b[0m \u001b[0;31m# train model on sj and iq data\u001b[0m\u001b[0;34m\u001b[0m\u001b[0;34m\u001b[0m\u001b[0;34m\u001b[0m\u001b[0m\n\u001b[1;32m      2\u001b[0m \u001b[0msj_model\u001b[0m \u001b[0;34m=\u001b[0m \u001b[0mtrain_model\u001b[0m\u001b[0;34m(\u001b[0m\u001b[0msj_train_features\u001b[0m\u001b[0;34m,\u001b[0m \u001b[0msj_train_labels\u001b[0m\u001b[0;34m)\u001b[0m\u001b[0;34m\u001b[0m\u001b[0;34m\u001b[0m\u001b[0m\n\u001b[0;32m----> 3\u001b[0;31m \u001b[0msj_predictions\u001b[0m \u001b[0;34m=\u001b[0m \u001b[0mpredict\u001b[0m\u001b[0;34m(\u001b[0m\u001b[0msj_model\u001b[0m\u001b[0;34m,\u001b[0m \u001b[0msj_test_features\u001b[0m\u001b[0;34m)\u001b[0m\u001b[0;34m.\u001b[0m\u001b[0mastype\u001b[0m\u001b[0;34m(\u001b[0m\u001b[0mint\u001b[0m\u001b[0;34m)\u001b[0m\u001b[0;34m\u001b[0m\u001b[0;34m\u001b[0m\u001b[0m\n\u001b[0m\u001b[1;32m      4\u001b[0m \u001b[0miq_model\u001b[0m \u001b[0;34m=\u001b[0m \u001b[0mtrain_model\u001b[0m\u001b[0;34m(\u001b[0m\u001b[0miq_train_features\u001b[0m\u001b[0;34m,\u001b[0m \u001b[0miq_train_labels\u001b[0m\u001b[0;34m)\u001b[0m\u001b[0;34m\u001b[0m\u001b[0;34m\u001b[0m\u001b[0m\n\u001b[1;32m      5\u001b[0m \u001b[0miq_predictions\u001b[0m \u001b[0;34m=\u001b[0m \u001b[0mpredict\u001b[0m\u001b[0;34m(\u001b[0m\u001b[0miq_model\u001b[0m\u001b[0;34m,\u001b[0m \u001b[0miq_test_features\u001b[0m\u001b[0;34m)\u001b[0m\u001b[0;34m.\u001b[0m\u001b[0mastype\u001b[0m\u001b[0;34m(\u001b[0m\u001b[0mint\u001b[0m\u001b[0;34m)\u001b[0m\u001b[0;34m\u001b[0m\u001b[0;34m\u001b[0m\u001b[0m\n",
      "\u001b[0;31mAttributeError\u001b[0m: 'list' object has no attribute 'astype'"
     ]
    }
   ],
   "source": [
    "# train model on sj and iq data\n",
    "sj_model = train_model(sj_train_features, sj_train_labels)\n",
    "iq_model = train_model(iq_train_features, iq_train_labels)\n"
   ]
  },
  {
   "cell_type": "code",
   "execution_count": 62,
   "id": "70fe4d8c",
   "metadata": {},
   "outputs": [
    {
     "ename": "AttributeError",
     "evalue": "'list' object has no attribute 'astype'",
     "output_type": "error",
     "traceback": [
      "\u001b[0;31m---------------------------------------------------------------------------\u001b[0m",
      "\u001b[0;31mAttributeError\u001b[0m                            Traceback (most recent call last)",
      "\u001b[0;32m/var/folders/w_/6rqkxbzd5cz6g49k5109y1kh0000gn/T/ipykernel_72495/4211520485.py\u001b[0m in \u001b[0;36m<module>\u001b[0;34m\u001b[0m\n\u001b[0;32m----> 1\u001b[0;31m \u001b[0msj_predictions\u001b[0m \u001b[0;34m=\u001b[0m \u001b[0mpredict\u001b[0m\u001b[0;34m(\u001b[0m\u001b[0msj_model\u001b[0m\u001b[0;34m,\u001b[0m \u001b[0msj_test_features\u001b[0m\u001b[0;34m)\u001b[0m\u001b[0;34m.\u001b[0m\u001b[0mastype\u001b[0m\u001b[0;34m(\u001b[0m\u001b[0mint\u001b[0m\u001b[0;34m)\u001b[0m\u001b[0;34m\u001b[0m\u001b[0;34m\u001b[0m\u001b[0m\n\u001b[0m\u001b[1;32m      2\u001b[0m \u001b[0miq_predictions\u001b[0m \u001b[0;34m=\u001b[0m \u001b[0mpredict\u001b[0m\u001b[0;34m(\u001b[0m\u001b[0miq_model\u001b[0m\u001b[0;34m,\u001b[0m \u001b[0miq_test_features\u001b[0m\u001b[0;34m)\u001b[0m\u001b[0;34m.\u001b[0m\u001b[0mastype\u001b[0m\u001b[0;34m(\u001b[0m\u001b[0mint\u001b[0m\u001b[0;34m)\u001b[0m\u001b[0;34m\u001b[0m\u001b[0;34m\u001b[0m\u001b[0m\n",
      "\u001b[0;31mAttributeError\u001b[0m: 'list' object has no attribute 'astype'"
     ]
    }
   ],
   "source": [
    "sj_predictions = predict(sj_model, sj_test_features)\n",
    "iq_predictions = predict(iq_model, iq_test_features)"
   ]
  },
  {
   "cell_type": "code",
   "execution_count": null,
   "id": "3bf17eab",
   "metadata": {},
   "outputs": [],
   "source": [
    "predictions = sj_predictions + iq_predictions\n",
    "submission = pd.read_csv(\"./submission_format.csv\", index_col=[0, 1, 2])\n",
    "submission.total_cases=predictions\n",
    "submission.to_csv(\"./approach_2.csv\")"
   ]
  }
 ],
 "metadata": {
  "interpreter": {
   "hash": "01fc90053a029df74eb881ecb0a44758ccef8ed513a488e06f5efd3ab0592068"
  },
  "kernelspec": {
   "display_name": "Python 3.8.5 64-bit ('is4242': conda)",
   "name": "python3"
  },
  "language_info": {
   "codemirror_mode": {
    "name": "ipython",
    "version": 3
   },
   "file_extension": ".py",
   "mimetype": "text/x-python",
   "name": "python",
   "nbconvert_exporter": "python",
   "pygments_lexer": "ipython3",
   "version": "3.8.5"
  }
 },
 "nbformat": 4,
 "nbformat_minor": 5
}
