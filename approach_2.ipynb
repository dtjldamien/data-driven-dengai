{
 "cells": [
  {
   "cell_type": "markdown",
   "id": "5bc30b8b",
   "metadata": {},
   "source": [
    "# Challenge Summary\n",
    "\n",
    "Can you predict local epidemics of dengue fever?\n",
    "\n",
    "Dengue fever is a mosquito-borne disease that occurs in tropical and sub-tropical parts of the world. In mild cases, symptoms are similar to the flu: fever, rash, and muscle and joint pain. In severe cases, dengue fever can cause severe bleeding, low blood pressure, and even death.\n",
    "\n",
    "Because it is carried by mosquitoes, the transmission dynamics of dengue are related to climate variables such as temperature and precipitation. Although the relationship to climate is complex, a growing number of scientists argue that climate change is likely to produce distributional shifts that will have significant public health implications worldwide.\n",
    "\n",
    "In recent years dengue fever has been spreading. Historically, the disease has been most prevalent in Southeast Asia and the Pacific islands. These days many of the nearly half billion cases per year are occurring in Latin America:\n",
    "\n",
    "Using environmental data collected by various U.S. Federal Government agencies—from the Centers for Disease Control and Prevention to the National Oceanic and Atmospheric Administration in the U.S. Department of Commerce—can you predict the number of dengue fever cases reported each week in San Juan, Puerto Rico and Iquitos, Peru?"
   ]
  },
  {
   "cell_type": "markdown",
   "id": "282f53a2",
   "metadata": {},
   "source": [
    "# Team Information\n",
    "\n",
    "Name: Team Fondue\n",
    "Members:\n",
    "\n",
    "- Anthony Xavier Poh Tianci (E0406854)\n",
    "- Tan Jia Le Damien (E0310355)"
   ]
  },
  {
   "cell_type": "markdown",
   "id": "8c341d91",
   "metadata": {},
   "source": [
    "# Imports"
   ]
  },
  {
   "cell_type": "code",
   "execution_count": 1,
   "id": "feb7e714",
   "metadata": {},
   "outputs": [],
   "source": [
    "import numpy as np\n",
    "import pandas as pd\n",
    "\n",
    "import statsmodels.api as sm\n",
    "import statsmodels.formula.api as smf\n",
    "\n",
    "from matplotlib import pyplot as plt\n",
    "import seaborn as sns\n",
    "%matplotlib inline\n",
    "plt.style.use('seaborn-white')\n",
    "\n",
    "from sklearn.model_selection import TimeSeriesSplit, GridSearchCV\n",
    "from sklearn.pipeline import Pipeline\n",
    "from sklearn.feature_selection import SelectKBest\n",
    "from sklearn.ensemble import RandomForestRegressor\n",
    "from sklearn.base import BaseEstimator, TransformerMixin\n",
    "\n",
    "import warnings\n",
    "warnings.filterwarnings(\"ignore\")\n",
    "\n",
    "rng = 0\n"
   ]
  },
  {
   "cell_type": "markdown",
   "id": "2e9f2c3b",
   "metadata": {},
   "source": [
    "# Data Exploration\n"
   ]
  },
  {
   "cell_type": "code",
   "execution_count": 22,
   "id": "937f6949",
   "metadata": {},
   "outputs": [],
   "source": [
    "# Loading of dataset\n",
    "\n",
    "train_features = pd.read_csv('./dengue_features_train.csv')\n",
    "train_labels = pd.read_csv('./dengue_labels_train.csv')\n",
    "test_features = pd.read_csv('./dengue_features_test.csv')"
   ]
  },
  {
   "cell_type": "code",
   "execution_count": 23,
   "id": "67d9ecfc",
   "metadata": {},
   "outputs": [],
   "source": [
    "# fillna\n",
    "\n",
    "train_features.fillna(method='ffill', inplace=True)\n",
    "test_features.fillna(method='ffill', inplace=True)"
   ]
  },
  {
   "cell_type": "code",
   "execution_count": 24,
   "id": "99cd04b4",
   "metadata": {},
   "outputs": [],
   "source": [
    "# convert week_start_date column to datetime\n",
    "\n",
    "train_features['week_start_date'] = pd.to_datetime(train_features['week_start_date'])\n",
    "test_features['week_start_date'] = pd.to_datetime(test_features['week_start_date']) "
   ]
  },
  {
   "cell_type": "code",
   "execution_count": 25,
   "id": "eb07ca77",
   "metadata": {},
   "outputs": [],
   "source": [
    "# extracting month to a new column\n",
    "\n",
    "train_features['month'] = train_features.week_start_date.dt.month\n",
    "test_features['month'] = test_features.week_start_date.dt.month"
   ]
  },
  {
   "cell_type": "code",
   "execution_count": 32,
   "id": "9f3de27a",
   "metadata": {},
   "outputs": [],
   "source": [
    "# merging features and labels\n",
    "\n",
    "train_features = pd.merge(train_features, train_labels, on=['city', 'year', 'weekofyear'])"
   ]
  },
  {
   "cell_type": "code",
   "execution_count": 34,
   "id": "a2f70746",
   "metadata": {},
   "outputs": [],
   "source": [
    "# getting the average of total_cases for each week over the years\n",
    "\n",
    "train_features = train_features.join(train_features.groupby(['city','weekofyear'])['total_cases'].mean(), on=['city','weekofyear'], rsuffix='_avg')\n",
    "test_features = test_features.join(train_features.groupby(['city','weekofyear'])['total_cases'].mean(), on=['city','weekofyear'], rsuffix='_avg')"
   ]
  },
  {
   "cell_type": "code",
   "execution_count": 36,
   "id": "4ae539f1",
   "metadata": {},
   "outputs": [],
   "source": [
    "# we do rolling sum for precipitation values because precipitation builds up over time\n",
    "\n",
    "rolling_cols_sum=[\n",
    " 'precipitation_amt_mm',\n",
    " 'reanalysis_sat_precip_amt_mm',\n",
    " 'station_precip_mm'\n",
    "]\n",
    "\n",
    "# for the following columns, we take the average over a given duration\n",
    "\n",
    "rolling_cols_avg=[\n",
    " 'ndvi_ne',\n",
    " 'ndvi_nw',\n",
    " 'ndvi_se',\n",
    " 'ndvi_sw',\n",
    " 'reanalysis_air_temp_k',\n",
    " 'reanalysis_avg_temp_k',\n",
    " 'reanalysis_dew_point_temp_k',\n",
    " 'reanalysis_max_air_temp_k',\n",
    " 'reanalysis_min_air_temp_k',\n",
    " 'reanalysis_precip_amt_kg_per_m2',\n",
    " 'reanalysis_relative_humidity_percent',\n",
    " 'reanalysis_specific_humidity_g_per_kg',\n",
    " 'reanalysis_tdtr_k',\n",
    " 'station_avg_temp_c',\n",
    " 'station_diur_temp_rng_c',\n",
    " 'station_max_temp_c',\n",
    " 'station_min_temp_c'\n",
    "]"
   ]
  },
  {
   "cell_type": "code",
   "execution_count": 41,
   "id": "8e2db4c4",
   "metadata": {},
   "outputs": [],
   "source": [
    "# for loop to create new rolling sum columns, sum over 3 weeks\n",
    "\n",
    "for col in rolling_cols_sum:\n",
    "    train_features['rolling_sum_' + col] = train_features[col].rolling(3).sum()\n",
    "    test_features['rolling_sum_' + col] = test_features[col].rolling(3).sum()\n",
    "    \n",
    "# for loop to create new rolling average columns, mean over 3 weeks\n",
    "    \n",
    "for col in rolling_cols_avg:\n",
    "    train_features['rolling_avg_'+col] = train_features[col].rolling(3).mean()\n",
    "    test_features['rolling_avg_'+col] = test_features[col].rolling(3).mean()"
   ]
  },
  {
   "cell_type": "code",
   "execution_count": 45,
   "id": "94bcad2c",
   "metadata": {},
   "outputs": [],
   "source": [
    "# we use backward fill for missing values in the rolling sum and rolling average columns\n",
    "# reason for this is because our rolling sum and rolling averages take values from the previous weeks\n",
    "\n",
    "train_features.fillna(method='bfill', inplace=True)\n",
    "test_features.fillna(method='bfill', inplace=True)"
   ]
  },
  {
   "cell_type": "code",
   "execution_count": 47,
   "id": "550b79c1",
   "metadata": {},
   "outputs": [],
   "source": [
    "# save our train_features to a csv file for easier access later on\n",
    "\n",
    "train_features.to_csv('train_features_modified.csv')"
   ]
  }
 ],
 "metadata": {
  "kernelspec": {
   "display_name": "Python 3.8.5 64-bit ('is4242': conda)",
   "language": "python",
   "name": "python385jvsc74a57bd07e22574bb472fe4c28b134087ab87bee81f80106d5d202771df7a919ce92c830"
  },
  "language_info": {
   "codemirror_mode": {
    "name": "ipython",
    "version": 3
   },
   "file_extension": ".py",
   "mimetype": "text/x-python",
   "name": "python",
   "nbconvert_exporter": "python",
   "pygments_lexer": "ipython3",
   "version": "3.8.5"
  }
 },
 "nbformat": 4,
 "nbformat_minor": 5
}
