{
 "cells": [
  {
   "cell_type": "code",
   "execution_count": 41,
   "metadata": {},
   "outputs": [],
   "source": [
    "import warnings\n",
    "from sklearn.cluster import KMeans\n",
    "from sklearn.pipeline import Pipeline\n",
    "from sklearn.preprocessing import OneHotEncoder, StandardScaler\n",
    "from sklearn.feature_selection import SelectKBest, chi2\n",
    "from sklearn.model_selection import GridSearchCV\n",
    "import numpy as np\n",
    "import pandas as pd\n",
    "\n",
    "import statsmodels.api as sm\n",
    "import statsmodels.formula.api as smf\n",
    "\n",
    "from matplotlib import pyplot as plt\n",
    "import seaborn as sns\n",
    "%matplotlib inline\n",
    "plt.style.use('seaborn-white')\n",
    "\n",
    "\n",
    "warnings.filterwarnings(\"ignore\")\n",
    "\n",
    "rng = 0\n"
   ]
  },
  {
   "cell_type": "code",
   "execution_count": 42,
   "metadata": {},
   "outputs": [],
   "source": [
    "# Loading of dataset, with data preprocessing\n",
    "train_features = pd.read_csv('./data/train_features_modified.csv')\n",
    "train_labels = pd.read_csv('./data/dengue_labels_train.csv')\n",
    "test_features = pd.read_csv('./data/test_features_modified.csv')\n"
   ]
  },
  {
   "cell_type": "code",
   "execution_count": 43,
   "metadata": {},
   "outputs": [],
   "source": [
    "# slice train_features, test_features and train_labels by city\n",
    "# Seperate data for San Juan\n",
    "sj_train_features = train_features[train_features['city'] == 'sj']\n",
    "sj_train_labels = train_labels[train_labels['city'] == 'sj']\n",
    "\n",
    "sj_train_merged = sj_train_features.merge(sj_train_labels, how='inner')\n",
    "\n",
    "sj_test_features = test_features[test_features['city'] == 'sj']\n",
    "\n",
    "# Separate data for Iquitos\n",
    "iq_train_features = train_features[train_features['city'] == 'iq']\n",
    "iq_train_labels = train_labels[train_labels['city'] == 'iq']\n",
    "iq_test_features = test_features[test_features['city'] == 'iq']\n",
    "\n",
    "# drop city column from train_features and test_features\n",
    "sj_train_features.drop(['city', 'week_start_date'], axis=1, inplace=True)\n",
    "sj_test_features.drop(['city', 'week_start_date'], axis=1, inplace=True)\n",
    "\n",
    "iq_train_features.drop(['city', 'week_start_date'], axis=1, inplace=True)\n",
    "iq_test_features.drop(['city', 'week_start_date'], axis=1, inplace=True)\n"
   ]
  },
  {
   "cell_type": "markdown",
   "metadata": {},
   "source": [
    "## Feature Selection\n"
   ]
  },
  {
   "cell_type": "code",
   "execution_count": 44,
   "metadata": {
    "scrolled": false
   },
   "outputs": [],
   "source": [
    "pipeline = Pipeline([\n",
    "    ('scaler', StandardScaler(with_mean=False)),\n",
    "    ('selectkbest', SelectKBest())\n",
    "])\n",
    "\n",
    "# hyperparameter tuning for select kbest\n",
    "\n",
    "hyperparameters = {\n",
    "    'selectkbest__k': range(10, 80, 10),\n",
    "    'selectkbest__score_func': [chi2]\n",
    "}\n",
    "\n"
   ]
  },
  {
   "cell_type": "code",
   "execution_count": 45,
   "metadata": {},
   "outputs": [],
   "source": [
    "def get_best_estimator(X, y):\n",
    "    grid_search = GridSearchCV(pipeline, hyperparameters, cv=5, n_jobs=-1)\n",
    "    grid_search.fit(X, y)\n",
    "    return grid_search.best_estimator_\n"
   ]
  },
  {
   "cell_type": "code",
   "execution_count": 46,
   "metadata": {},
   "outputs": [],
   "source": [
    "# select kbest features for sj_train_features and sj_train_labels\n",
    "sj_train_features_kbest = pipeline.fit_transform(\n",
    "    sj_train_features, sj_train_labels['total_cases'])\n",
    "iq_train_features_kbest = pipeline.fit_transform(\n",
    "    iq_train_features, iq_train_labels['total_cases'])\n"
   ]
  },
  {
   "cell_type": "markdown",
   "metadata": {},
   "source": [
    "## Clustering\n"
   ]
  },
  {
   "cell_type": "code",
   "execution_count": 47,
   "metadata": {},
   "outputs": [],
   "source": [
    "kmeans_sj = KMeans(n_clusters=5, random_state=rng).fit(sj_train_features)\n",
    "clusters_sj = kmeans_sj.predict(sj_train_features)\n"
   ]
  },
  {
   "cell_type": "code",
   "execution_count": 48,
   "metadata": {},
   "outputs": [],
   "source": [
    "kmeans_iq = KMeans(random_state=rng).fit(iq_train_features)\n",
    "clusters_iq = kmeans_iq.predict(iq_train_features)\n"
   ]
  },
  {
   "cell_type": "code",
   "execution_count": 49,
   "metadata": {},
   "outputs": [
    {
     "name": "stdout",
     "output_type": "stream",
     "text": [
      "(936,)\n"
     ]
    },
    {
     "data": {
      "text/plain": [
       "Index(['city', 'year', 'weekofyear', 'week_start_date', 'ndvi_ne', 'ndvi_nw',\n",
       "       'ndvi_se', 'ndvi_sw', 'precipitation_amt_mm', 'reanalysis_air_temp_k',\n",
       "       'reanalysis_avg_temp_k', 'reanalysis_dew_point_temp_k',\n",
       "       'reanalysis_max_air_temp_k', 'reanalysis_min_air_temp_k',\n",
       "       'reanalysis_precip_amt_kg_per_m2',\n",
       "       'reanalysis_relative_humidity_percent', 'reanalysis_sat_precip_amt_mm',\n",
       "       'reanalysis_specific_humidity_g_per_kg', 'reanalysis_tdtr_k',\n",
       "       'station_avg_temp_c', 'station_diur_temp_rng_c', 'station_max_temp_c',\n",
       "       'station_min_temp_c', 'station_precip_mm', 'month',\n",
       "       'rolling_sum_precipitation_amt_mm',\n",
       "       'rolling_sum_reanalysis_sat_precip_amt_mm',\n",
       "       'rolling_sum_station_precip_mm', 'rolling_avg_ndvi_ne',\n",
       "       'rolling_avg_ndvi_nw', 'rolling_avg_ndvi_se', 'rolling_avg_ndvi_sw',\n",
       "       'rolling_avg_reanalysis_air_temp_k',\n",
       "       'rolling_avg_reanalysis_avg_temp_k',\n",
       "       'rolling_avg_reanalysis_dew_point_temp_k',\n",
       "       'rolling_avg_reanalysis_max_air_temp_k',\n",
       "       'rolling_avg_reanalysis_min_air_temp_k',\n",
       "       'rolling_avg_reanalysis_precip_amt_kg_per_m2',\n",
       "       'rolling_avg_reanalysis_relative_humidity_percent',\n",
       "       'rolling_avg_reanalysis_specific_humidity_g_per_kg',\n",
       "       'rolling_avg_reanalysis_tdtr_k', 'rolling_avg_station_avg_temp_c',\n",
       "       'rolling_avg_station_diur_temp_rng_c', 'rolling_avg_station_max_temp_c',\n",
       "       'rolling_avg_station_min_temp_c', 'lag_1_precipitation_amt_mm',\n",
       "       'lag_2_precipitation_amt_mm', 'lag_1_reanalysis_sat_precip_amt_mm',\n",
       "       'lag_2_reanalysis_sat_precip_amt_mm', 'lag_1_station_precip_mm',\n",
       "       'lag_2_station_precip_mm', 'lag_1_ndvi_ne', 'lag_2_ndvi_ne',\n",
       "       'lag_1_ndvi_nw', 'lag_2_ndvi_nw', 'lag_1_ndvi_se', 'lag_2_ndvi_se',\n",
       "       'lag_1_ndvi_sw', 'lag_2_ndvi_sw', 'lag_1_reanalysis_air_temp_k',\n",
       "       'lag_2_reanalysis_air_temp_k', 'lag_1_reanalysis_avg_temp_k',\n",
       "       'lag_2_reanalysis_avg_temp_k', 'lag_1_reanalysis_dew_point_temp_k',\n",
       "       'lag_2_reanalysis_dew_point_temp_k', 'lag_1_reanalysis_max_air_temp_k',\n",
       "       'lag_2_reanalysis_max_air_temp_k', 'lag_1_reanalysis_min_air_temp_k',\n",
       "       'lag_2_reanalysis_min_air_temp_k',\n",
       "       'lag_1_reanalysis_precip_amt_kg_per_m2',\n",
       "       'lag_2_reanalysis_precip_amt_kg_per_m2',\n",
       "       'lag_1_reanalysis_relative_humidity_percent',\n",
       "       'lag_2_reanalysis_relative_humidity_percent',\n",
       "       'lag_1_reanalysis_specific_humidity_g_per_kg',\n",
       "       'lag_2_reanalysis_specific_humidity_g_per_kg',\n",
       "       'lag_1_reanalysis_tdtr_k', 'lag_2_reanalysis_tdtr_k',\n",
       "       'lag_1_station_avg_temp_c', 'lag_2_station_avg_temp_c',\n",
       "       'lag_1_station_diur_temp_rng_c', 'lag_2_station_diur_temp_rng_c',\n",
       "       'lag_1_station_max_temp_c', 'lag_2_station_max_temp_c',\n",
       "       'lag_1_station_min_temp_c', 'lag_2_station_min_temp_c', 'total_cases',\n",
       "       'cluster'],\n",
       "      dtype='object')"
      ]
     },
     "execution_count": 49,
     "metadata": {},
     "output_type": "execute_result"
    },
    {
     "data": {
      "image/png": "[encoded data removed]",
      "text/plain": [
       "<Figure size 432x288 with 1 Axes>"
      ]
     },
     "metadata": {},
     "output_type": "display_data"
    }
   ],
   "source": [
    "# after using kmeans -> use clustering to find the subset of data to train each classifier, then have an average classifier\n",
    "# then use ensemble to combine the classifiers\n",
    "# no need to cluster for test data\n",
    "\n",
    "# select k best for best features\n",
    "\n",
    "print(clusters_sj.shape)\n",
    "\n",
    "sj_train_merged['cluster'] = kmeans_sj.labels_\n",
    "\n",
    "sns.scatterplot(data=sj_train_merged, x=\"lag_1_station_avg_temp_c\",\n",
    "                y=\"total_cases\", hue=\"cluster\")\n",
    "\n",
    "sj_train_merged.columns\n"
   ]
  },
  {
   "cell_type": "code",
   "execution_count": 50,
   "metadata": {},
   "outputs": [
    {
     "data": {
      "text/html": [
       "<div>\n",
       "<style scoped>\n",
       "    .dataframe tbody tr th:only-of-type {\n",
       "        vertical-align: middle;\n",
       "    }\n",
       "\n",
       "    .dataframe tbody tr th {\n",
       "        vertical-align: top;\n",
       "    }\n",
       "\n",
       "    .dataframe thead th {\n",
       "        text-align: right;\n",
       "    }\n",
       "</style>\n",
       "<table border=\"1\" class=\"dataframe\">\n",
       "  <thead>\n",
       "    <tr style=\"text-align: right;\">\n",
       "      <th></th>\n",
       "      <th>year</th>\n",
       "      <th>weekofyear</th>\n",
       "      <th>ndvi_ne</th>\n",
       "      <th>ndvi_nw</th>\n",
       "      <th>ndvi_se</th>\n",
       "      <th>ndvi_sw</th>\n",
       "      <th>precipitation_amt_mm</th>\n",
       "      <th>reanalysis_air_temp_k</th>\n",
       "      <th>reanalysis_avg_temp_k</th>\n",
       "      <th>reanalysis_dew_point_temp_k</th>\n",
       "      <th>...</th>\n",
       "      <th>lag_2_reanalysis_specific_humidity_g_per_kg</th>\n",
       "      <th>lag_1_reanalysis_tdtr_k</th>\n",
       "      <th>lag_2_reanalysis_tdtr_k</th>\n",
       "      <th>lag_1_station_avg_temp_c</th>\n",
       "      <th>lag_2_station_avg_temp_c</th>\n",
       "      <th>lag_1_station_diur_temp_rng_c</th>\n",
       "      <th>lag_2_station_diur_temp_rng_c</th>\n",
       "      <th>lag_1_station_max_temp_c</th>\n",
       "      <th>lag_2_station_max_temp_c</th>\n",
       "      <th>lag_1_station_min_temp_c</th>\n",
       "    </tr>\n",
       "  </thead>\n",
       "  <tbody>\n",
       "    <tr>\n",
       "      <th>0</th>\n",
       "      <td>1990</td>\n",
       "      <td>18</td>\n",
       "      <td>0.1226</td>\n",
       "      <td>0.103725</td>\n",
       "      <td>0.198483</td>\n",
       "      <td>0.177617</td>\n",
       "      <td>12.42</td>\n",
       "      <td>297.572857</td>\n",
       "      <td>297.742857</td>\n",
       "      <td>292.414286</td>\n",
       "      <td>...</td>\n",
       "      <td>14.012857</td>\n",
       "      <td>2.628571</td>\n",
       "      <td>2.628571</td>\n",
       "      <td>25.442857</td>\n",
       "      <td>25.442857</td>\n",
       "      <td>6.9</td>\n",
       "      <td>6.9</td>\n",
       "      <td>29.4</td>\n",
       "      <td>29.4</td>\n",
       "      <td>20.0</td>\n",
       "    </tr>\n",
       "  </tbody>\n",
       "</table>\n",
       "<p>1 rows × 82 columns</p>\n",
       "</div>"
      ],
      "text/plain": [
       "   year  weekofyear  ndvi_ne   ndvi_nw   ndvi_se   ndvi_sw  \\\n",
       "0  1990          18   0.1226  0.103725  0.198483  0.177617   \n",
       "\n",
       "   precipitation_amt_mm  reanalysis_air_temp_k  reanalysis_avg_temp_k  \\\n",
       "0                 12.42             297.572857             297.742857   \n",
       "\n",
       "   reanalysis_dew_point_temp_k  ...  \\\n",
       "0                   292.414286  ...   \n",
       "\n",
       "   lag_2_reanalysis_specific_humidity_g_per_kg  lag_1_reanalysis_tdtr_k  \\\n",
       "0                                    14.012857                 2.628571   \n",
       "\n",
       "   lag_2_reanalysis_tdtr_k  lag_1_station_avg_temp_c  \\\n",
       "0                 2.628571                 25.442857   \n",
       "\n",
       "   lag_2_station_avg_temp_c  lag_1_station_diur_temp_rng_c  \\\n",
       "0                 25.442857                            6.9   \n",
       "\n",
       "   lag_2_station_diur_temp_rng_c  lag_1_station_max_temp_c  \\\n",
       "0                            6.9                      29.4   \n",
       "\n",
       "   lag_2_station_max_temp_c  lag_1_station_min_temp_c  \n",
       "0                      29.4                      20.0  \n",
       "\n",
       "[1 rows x 82 columns]"
      ]
     },
     "execution_count": 50,
     "metadata": {},
     "output_type": "execute_result"
    }
   ],
   "source": [
    "sj_train_features.iloc[0:1, 0:-1]\n"
   ]
  }
 ],
 "metadata": {
  "interpreter": {
   "hash": "01fc90053a029df74eb881ecb0a44758ccef8ed513a488e06f5efd3ab0592068"
  },
  "kernelspec": {
   "display_name": "Python 3",
   "language": "python",
   "name": "python3"
  },
  "language_info": {
   "codemirror_mode": {
    "name": "ipython",
    "version": 3
   },
   "file_extension": ".py",
   "mimetype": "text/x-python",
   "name": "python",
   "nbconvert_exporter": "python",
   "pygments_lexer": "ipython3",
   "version": "3.8.5"
  }
 },
 "nbformat": 4,
 "nbformat_minor": 2
}
