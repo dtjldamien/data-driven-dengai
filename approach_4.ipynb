{
 "cells": [
  {
   "cell_type": "code",
   "execution_count": 114,
   "metadata": {},
   "outputs": [],
   "source": [
    "import numpy as np\n",
    "import pandas as pd\n",
    "\n",
    "import statsmodels.api as sm\n",
    "import statsmodels.formula.api as smf\n",
    "\n",
    "from matplotlib import pyplot as plt\n",
    "import seaborn as sns\n",
    "%matplotlib inline\n",
    "plt.style.use('seaborn-white')\n",
    "\n",
    "from sklearn.cluster import KMeans\n",
    "\n",
    "import warnings\n",
    "warnings.filterwarnings(\"ignore\")\n",
    "\n",
    "rng = 0\n"
   ]
  },
  {
   "cell_type": "code",
   "execution_count": 115,
   "metadata": {},
   "outputs": [],
   "source": [
    "# Loading of dataset, with data preprocessing\n",
    "train_features = pd.read_csv('./train_features_modified.csv', index_col=[0, 1, 2])\n",
    "train_labels = pd.read_csv('./dengue_labels_train.csv', index_col=[0, 1, 2])\n",
    "test_features = pd.read_csv('./test_features_modified.csv', index_col=[0, 1, 2])\n",
    "\n",
    "# drop week_start_date column\n",
    "train_features = train_features.iloc[:,1:]\n",
    "test_features = train_features.iloc[:,1:]\n"
   ]
  },
  {
   "cell_type": "code",
   "execution_count": 116,
   "metadata": {},
   "outputs": [],
   "source": [
    "# Seperate data for San Juan\n",
    "sj_train_features = train_features.loc['sj']\n",
    "sj_train_labels = train_labels.loc['sj']\n",
    "sj_test_features = test_features.loc['sj']\n",
    "\n",
    "# Separate data for Iquitos\n",
    "iq_train_features = train_features.loc['iq']\n",
    "iq_train_labels = train_labels.loc['iq']\n",
    "iq_test_features = test_features.loc['iq']\n"
   ]
  },
  {
   "cell_type": "markdown",
   "metadata": {},
   "source": [
    "## Clustering\n"
   ]
  },
  {
   "cell_type": "code",
   "execution_count": 120,
   "metadata": {},
   "outputs": [
    {
     "name": "stdout",
     "output_type": "stream",
     "text": [
      "[5 5 5 5 1 1 1 4 3 3 5 5 5 5 5 0 3 3 5 3 4 4 3 0 0 2 2 4 3 5 5 5 1 5 1 1 1\n",
      " 1 1 1 1 1 1 5 1 1 1 1 1 1 5 5 5 5 1 5 5 5 5 5 3 3 5 5 5 3 3 5 5 5 3 3 3 0\n",
      " 3 3 5 5 3 3 4 3 0 5 5 1 1 1 4 3 3 1 1 1 1 1 1 1 1 1 3 3 4 3 5 1 1 0 4 2 2\n",
      " 0 3 5 1 5 3 3 3 3 4 3 3 5 3 0 4 3 3 5 3 3 0 0 0 0 4 3 5 1 5 1 1 1 5 5 5 1\n",
      " 1 1 1 1 1 1 1 3 3 0 0 5 0 0 3 5 0 3 3 0 3 0 5 5 3 5 3 5 5 3 3 3 5 1 5 5 5\n",
      " 1 0 5 5 1 5 5 5 1 1 1 1 1 1 1 1 1 1 1 1 1 1 1 1 5 5 5 1 1 5 5 5 5 5 1 5 1\n",
      " 5 5 5 1 5 6 6 6 6 6 6 6 6 6 6 6 6 6 6 5 5 5 5 5 5 1 1 1 1 1 1 1 1 1 1 1 1\n",
      " 1 1 1 1 0 7 7 2 2 3 1 5 5 5 0 4 3 5 0 3 3 0 0 3 4 3 3 3 3 5 5 3 3 5 1 1 1\n",
      " 1 5 3 3 5 1 1 4 3 3 1 1 1 5 5 5 1 1 1 5 3 4 4 4 5 5 5 0 3 0 5 5 0 3 3 5 7\n",
      " 2 2 5 5 1 1 5 0 0 0 5 5 1 1 1 1 1 1 5 3 3 5 1 1 1 1 1 1 1 1 1 1 1 1 1 5 4\n",
      " 3 5 1 5 5 5 5 5 5 5 5 0 3 3 5 5 3 3 4 4 3 5 1 5 5 5 1 1 1 1 5 0 3 3 1 4 3\n",
      " 3 1 1 1 1 5 5 5 1 5 5 3 5 3 5 3 3 4 3 3 5 0 6 6 6 6 0 0 0 3 0 7 2 4 5 4 2\n",
      " 2 4 3 0 0 3 3 1 5 1 5 1 1 1 1 1 1 1 1 1 1 1 5 5 5 5 3 3 5 1 3 4 2 3 4 3 4\n",
      " 3 3 5 5 4 0 4 4 4 4 3 3 4 2 2 5 0 7 2 2 5 5 1 3 3 3 1 1 1 1 1 5 5 3 1 1 1\n",
      " 1 1 5 5 5 5 3 3 3 3 3 3 5 1 1 1 5 5 5 5 0 4 4 5 3 4 3 3 5 3 4 3 5 1 1 1 1\n",
      " 1 5 1 1 1 1 1 1 1 1 1 1 1 1 1 1 5 5 3 0 3 3 5 5 3 3 4 3 3 5 3 3 3 5 4 4 3\n",
      " 5 5 3 3 0 3 3 5 7 2 2 5 5 0 0 3 5 1 1 1 1 1 1 1 1 1 1 1 1 5 5 4 4 2 3 3 1\n",
      " 5 3 3 5 1 1 5 5 5 5 5 5 5 0 3 0 5 0 3 4 3 3 5 1 3 5 5 1 1 1 1 1 1 1 1 1 5\n",
      " 5 5 1 1 1 1 1 1 5 7 2 2 5 5 4 3 3 5 5 1 1 5 5 5 5 5 5 0 4 3 3 0 4 3 4 3 4\n",
      " 4 4 7 2 2 4 3 3 1 1 1 1 1 1 1 1 1 1 1 1 1 1 1 1 1 5 5 5 0 7 2 3 1 5 5 0 3\n",
      " 3 3 5 5 5 5 3 3 3 7 2 2 3 3 4 4 3 4 3 3 1 1 4 4 2 3 1 1 1 1 1 1 1 1 1 1 1\n",
      " 1 1 5 7 2 2 0 7 2 2 4 3 3 5 0 3 0 0 3 3 3 4 3 0 3 3 3 4 2 2 0 5 0 5 5 5 1\n",
      " 1 5 5 3 0 3 5 1 1 1 1 1 1 1 5 4 4 2 4 4 0 0 3 3 5 5 5 0 3 4 3 5 0 0 3 3 3\n",
      " 3 3 3 3 5 5 0 0 0 3 5 5 3 0 5 1 1 1 5 5 1 1 1 1 1 1 1 1 1 3 3 5 0 0 0 5 1\n",
      " 5 3 4 3 3 5 5 5 0 3 3 3 3 3 3 5 3 4 4 4 3 3 0 3 0 3 3 5 5 0 5 5 5 1 0 5 5\n",
      " 1 1 1 1 1 1 1 1 1 1 1]\n"
     ]
    }
   ],
   "source": [
    "kmeans_sj = KMeans(random_state=rng).fit(sj_train_features)\n",
    "clusters_sj = kmeans_sj.predict(sj_train_features)\n"
   ]
  },
  {
   "cell_type": "code",
   "execution_count": null,
   "metadata": {},
   "outputs": [],
   "source": [
    "kmeans_iq = KMeans(random_state=rng).fit(iq_train_features)\n",
    "clusters_iq = kmeans_iq.predict(iq_train_features)\n"
   ]
  }
 ],
 "metadata": {
  "interpreter": {
   "hash": "01fc90053a029df74eb881ecb0a44758ccef8ed513a488e06f5efd3ab0592068"
  },
  "kernelspec": {
   "display_name": "Python 3.8.5 64-bit ('is4242': conda)",
   "name": "python3"
  },
  "language_info": {
   "codemirror_mode": {
    "name": "ipython",
    "version": 3
   },
   "file_extension": ".py",
   "mimetype": "text/x-python",
   "name": "python",
   "nbconvert_exporter": "python",
   "pygments_lexer": "ipython3",
   "version": "3.8.5"
  },
  "orig_nbformat": 4
 },
 "nbformat": 4,
 "nbformat_minor": 2
}
